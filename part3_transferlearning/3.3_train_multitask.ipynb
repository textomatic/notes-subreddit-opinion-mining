{
 "cells": [
  {
   "attachments": {},
   "cell_type": "markdown",
   "metadata": {},
   "source": [
    "Import required libraries"
   ]
  },
  {
   "cell_type": "code",
   "execution_count": 1,
   "metadata": {},
   "outputs": [],
   "source": [
    "import warnings\n",
    "warnings.simplefilter(action='ignore')\n",
    "import logging\n",
    "import os\n",
    "import ast\n",
    "import pandas as pd\n",
    "pd.set_option('display.max_colwidth', None)\n",
    "import wandb\n",
    "from simpletransformers.t5 import T5Model\n",
    "from sklearn.model_selection import train_test_split\n",
    "from sklearn.metrics import classification_report, ConfusionMatrixDisplay\n",
    "import matplotlib.pyplot as plt\n",
    "%matplotlib inline"
   ]
  },
  {
   "attachments": {},
   "cell_type": "markdown",
   "metadata": {},
   "source": [
    "Load data from CSV"
   ]
  },
  {
   "cell_type": "code",
   "execution_count": 2,
   "metadata": {},
   "outputs": [],
   "source": [
    "competitors_df = pd.read_csv('./data/competitors_reddit.csv')"
   ]
  },
  {
   "cell_type": "code",
   "execution_count": 3,
   "metadata": {},
   "outputs": [
    {
     "data": {
      "text/html": [
       "<div>\n",
       "<style scoped>\n",
       "    .dataframe tbody tr th:only-of-type {\n",
       "        vertical-align: middle;\n",
       "    }\n",
       "\n",
       "    .dataframe tbody tr th {\n",
       "        vertical-align: top;\n",
       "    }\n",
       "\n",
       "    .dataframe thead th {\n",
       "        text-align: right;\n",
       "    }\n",
       "</style>\n",
       "<table border=\"1\" class=\"dataframe\">\n",
       "  <thead>\n",
       "    <tr style=\"text-align: right;\">\n",
       "      <th></th>\n",
       "      <th>index</th>\n",
       "      <th>submission_id</th>\n",
       "      <th>submission_title</th>\n",
       "      <th>submission_link_flair_text</th>\n",
       "      <th>submission_selftext</th>\n",
       "      <th>reply_body</th>\n",
       "    </tr>\n",
       "  </thead>\n",
       "  <tbody>\n",
       "    <tr>\n",
       "      <th>0</th>\n",
       "      <td>0</td>\n",
       "      <td>f96vya</td>\n",
       "      <td>New versions of A5 and A6 Agile firmwares are now available</td>\n",
       "      <td>NaN</td>\n",
       "      <td>Dear Supernote users, new versions of A5 and A6 Agile firmwares are now available:   \\n[https://supernote.com/#/service/firmware](https://supernote.com/#/service/firmware)  \\n\\n\\n1.Add switch button of disabling hand touch function under Note file full screen mode for left-handed and avoid mis-touch.\\n\\n2.Add Alibaba Sans font option in EPUB document font settings to adjust space after every apostrophe.  \\n\\n3.Add email attachment (PDF/EPUB/Note/SW files) function.\\n\\n4.Add QR code sharing function for notes.\\n\\n5.Add file sorting function.\\n\\n6.Modified the interactive operation of PDF trimming.\\n\\n7.Adjusted email signature and content display effect.</td>\n",
       "      <td>[\"There was video of a multifunction button to be released in this new firmware but I can't access it -was it included in the new firmware?\", \"I had the same problem. It is there. \\n\\nClick the delete or selection delete button in the side bar and then click the '+' symbol on that icon and the floating menu will appear. \\n\\nHope that helps.\", \"Please click the eraser button in the left side bar and then click '+' symbol on the icon, the copy eraser is shown on the right upper corner of menu and then double click for full screen.\"]</td>\n",
       "    </tr>\n",
       "    <tr>\n",
       "      <th>1</th>\n",
       "      <td>1</td>\n",
       "      <td>f9dsst</td>\n",
       "      <td>Feature request. Pressure sensitivity.</td>\n",
       "      <td>NaN</td>\n",
       "      <td>Thank you for the new firmware update. It adds some very useful features.\\n\\nIs there any way that you could add pressure sensitivity adjustment/calibration in a future update? I have several styli which I find more comfortable than the Supernote stylus and the default pressure sensitivity is far too high for them. \\n\\nAlso, in a previous firmware version, the button on a Lamy EMR stylus triggered the selection erase tool when held down. It now does nothing. Can this be re-instated as it was a very useful feature? The eraser on other styli still works fine.\\n\\nThanks</td>\n",
       "      <td>['We are happy that you can enjoy this firmwares update, and your opinion is important to us.\\n\\nWe will fix the eraser function of Lamy EMR pen within a month, Thank you for your support.', 'Thank you for reinstating the erase feature. I see that the pressure sensitivity works correctly with the Lamy EMR Pen and Boox styli. Fantastic!', ': )']</td>\n",
       "    </tr>\n",
       "    <tr>\n",
       "      <th>2</th>\n",
       "      <td>2</td>\n",
       "      <td>fp66n4</td>\n",
       "      <td>Quick Guide — Set Up and Connect to the Supernote Cloud</td>\n",
       "      <td>NaN</td>\n",
       "      <td>Set up and connect to the Supernote Cloud account to transfer ebooks, PDFs and documents to and from your Supernote.\\n\\n**📷**\\n\\n**📷**\\n\\n**📷**</td>\n",
       "      <td>[\"What I would like to know is where can one buy the super note in Europe. I've searched and searched but found nothing\", 'Hello, we participated in Paperworld 2020(International trade fair for stationery, office supplies and writing instruments) in 25-28 january 2020, Frankfurt am Main. You can now buy Supernote at the Goodereader store or iQoods.com and it is expected that European customers will be able to buy from our official website next month. And Supernote Amazon official store in Europe will also be available in the future.', 'Hello. International shipping is FREE now at [iQoods.com](https://www.iqoods.com) .']</td>\n",
       "    </tr>\n",
       "    <tr>\n",
       "      <th>3</th>\n",
       "      <td>3</td>\n",
       "      <td>fs454n</td>\n",
       "      <td>How to use handwriting to text function?</td>\n",
       "      <td>NaN</td>\n",
       "      <td>How do you achieve this? I've not been able to use it in notes, and sent see it in the manual?</td>\n",
       "      <td>['Currently you can try the \"Smart Writing\" function, which supports Chinese, English, Japanese handwriting recognition, text conversion and handwriting edit (including Insert/Clear/Delete/Exchange/Enter Line/Squeeze). And we are sure that this feature will be upgraded in a future update, and the \"Smart Writing\" function may be merged with Note.\\n\\nHow to enable Smart Writing beta:\\n\\nPlease enter the settings menu - click Tag - open Smart Writing']</td>\n",
       "    </tr>\n",
       "    <tr>\n",
       "      <th>4</th>\n",
       "      <td>4</td>\n",
       "      <td>fs46fj</td>\n",
       "      <td>Email inbox issues</td>\n",
       "      <td>NaN</td>\n",
       "      <td>I have set up my email, and can send emails. My inbox will not populate though...\\n\\nIt states there is an error and to check server settings...\\n\\nI've logged in and out numerous times, and game tried syncing different email addresses, and have gotten the same results...\\n\\nThanks</td>\n",
       "      <td>[\"Hi aubrit512,\\n\\nPlease try to update the system to the latest version first. If it doesn't work, please send me the device serial number and we will check for possible problems.\"]</td>\n",
       "    </tr>\n",
       "  </tbody>\n",
       "</table>\n",
       "</div>"
      ],
      "text/plain": [
       "   index submission_id  \\\n",
       "0      0        f96vya   \n",
       "1      1        f9dsst   \n",
       "2      2        fp66n4   \n",
       "3      3        fs454n   \n",
       "4      4        fs46fj   \n",
       "\n",
       "                                              submission_title  \\\n",
       "0  New versions of A5 and A6 Agile firmwares are now available   \n",
       "1                       Feature request. Pressure sensitivity.   \n",
       "2      Quick Guide — Set Up and Connect to the Supernote Cloud   \n",
       "3                     How to use handwriting to text function?   \n",
       "4                                           Email inbox issues   \n",
       "\n",
       "  submission_link_flair_text  \\\n",
       "0                        NaN   \n",
       "1                        NaN   \n",
       "2                        NaN   \n",
       "3                        NaN   \n",
       "4                        NaN   \n",
       "\n",
       "                                                                                                                                                                                                                                                                                                                                                                                                                                                                                                                                                                                                                                                                     submission_selftext  \\\n",
       "0  Dear Supernote users, new versions of A5 and A6 Agile firmwares are now available:   \\n[https://supernote.com/#/service/firmware](https://supernote.com/#/service/firmware)  \\n\\n\\n1.Add switch button of disabling hand touch function under Note file full screen mode for left-handed and avoid mis-touch.\\n\\n2.Add Alibaba Sans font option in EPUB document font settings to adjust space after every apostrophe.  \\n\\n3.Add email attachment (PDF/EPUB/Note/SW files) function.\\n\\n4.Add QR code sharing function for notes.\\n\\n5.Add file sorting function.\\n\\n6.Modified the interactive operation of PDF trimming.\\n\\n7.Adjusted email signature and content display effect.   \n",
       "1                                                                                          Thank you for the new firmware update. It adds some very useful features.\\n\\nIs there any way that you could add pressure sensitivity adjustment/calibration in a future update? I have several styli which I find more comfortable than the Supernote stylus and the default pressure sensitivity is far too high for them. \\n\\nAlso, in a previous firmware version, the button on a Lamy EMR stylus triggered the selection erase tool when held down. It now does nothing. Can this be re-instated as it was a very useful feature? The eraser on other styli still works fine.\\n\\nThanks   \n",
       "2                                                                                                                                                                                                                                                                                                                                                                                                                                                                                                                                        Set up and connect to the Supernote Cloud account to transfer ebooks, PDFs and documents to and from your Supernote.\\n\\n**📷**\\n\\n**📷**\\n\\n**📷**   \n",
       "3                                                                                                                                                                                                                                                                                                                                                                                                                                                                                                                                                                                         How do you achieve this? I've not been able to use it in notes, and sent see it in the manual?   \n",
       "4                                                                                                                                                                                                                                                                                                                                                                                             I have set up my email, and can send emails. My inbox will not populate though...\\n\\nIt states there is an error and to check server settings...\\n\\nI've logged in and out numerous times, and game tried syncing different email addresses, and have gotten the same results...\\n\\nThanks   \n",
       "\n",
       "                                                                                                                                                                                                                                                                                                                                                                                                                                                                                                                                                                                                                                            reply_body  \n",
       "0                                                                                             [\"There was video of a multifunction button to be released in this new firmware but I can't access it -was it included in the new firmware?\", \"I had the same problem. It is there. \\n\\nClick the delete or selection delete button in the side bar and then click the '+' symbol on that icon and the floating menu will appear. \\n\\nHope that helps.\", \"Please click the eraser button in the left side bar and then click '+' symbol on the icon, the copy eraser is shown on the right upper corner of menu and then double click for full screen.\"]  \n",
       "1                                                                                                                                                                                                                                                                                           ['We are happy that you can enjoy this firmwares update, and your opinion is important to us.\\n\\nWe will fix the eraser function of Lamy EMR pen within a month, Thank you for your support.', 'Thank you for reinstating the erase feature. I see that the pressure sensitivity works correctly with the Lamy EMR Pen and Boox styli. Fantastic!', ': )']  \n",
       "2  [\"What I would like to know is where can one buy the super note in Europe. I've searched and searched but found nothing\", 'Hello, we participated in Paperworld 2020(International trade fair for stationery, office supplies and writing instruments) in 25-28 january 2020, Frankfurt am Main. You can now buy Supernote at the Goodereader store or iQoods.com and it is expected that European customers will be able to buy from our official website next month. And Supernote Amazon official store in Europe will also be available in the future.', 'Hello. International shipping is FREE now at [iQoods.com](https://www.iqoods.com) .']  \n",
       "3                                                                                                                                                                                ['Currently you can try the \"Smart Writing\" function, which supports Chinese, English, Japanese handwriting recognition, text conversion and handwriting edit (including Insert/Clear/Delete/Exchange/Enter Line/Squeeze). And we are sure that this feature will be upgraded in a future update, and the \"Smart Writing\" function may be merged with Note.\\n\\nHow to enable Smart Writing beta:\\n\\nPlease enter the settings menu - click Tag - open Smart Writing']  \n",
       "4                                                                                                                                                                                                                                                                                                                                                                                                                                                               [\"Hi aubrit512,\\n\\nPlease try to update the system to the latest version first. If it doesn't work, please send me the device serial number and we will check for possible problems.\"]  "
      ]
     },
     "execution_count": 3,
     "metadata": {},
     "output_type": "execute_result"
    }
   ],
   "source": [
    "competitors_df.head()"
   ]
  },
  {
   "attachments": {},
   "cell_type": "markdown",
   "metadata": {},
   "source": [
    "Convert `reply_body` column from string to list of strings"
   ]
  },
  {
   "cell_type": "code",
   "execution_count": 4,
   "metadata": {},
   "outputs": [],
   "source": [
    "competitors_df['reply_body'] = competitors_df['reply_body'].apply(ast.literal_eval)"
   ]
  },
  {
   "attachments": {},
   "cell_type": "markdown",
   "metadata": {},
   "source": [
    "Create new dataframe with the `prefix`, `input_text`, and `target_text` columns - the aim is to train the model on the task of ‘title prediction’, i.e. generating a title for the thread"
   ]
  },
  {
   "cell_type": "code",
   "execution_count": 5,
   "metadata": {},
   "outputs": [],
   "source": [
    "title_df = pd.DataFrame()\n",
    "title_df['input_text'] = competitors_df['submission_selftext'] + ' ' + competitors_df['reply_body'].apply(lambda replies: ' '.join([reply for reply in replies[:3]]))\n",
    "title_df['target_text'] = competitors_df['submission_title']\n",
    "title_df['prefix'] = 'title prediction'\n",
    "title_df = title_df[['prefix', 'input_text', 'target_text']]"
   ]
  },
  {
   "cell_type": "code",
   "execution_count": 6,
   "metadata": {},
   "outputs": [
    {
     "data": {
      "text/html": [
       "<div>\n",
       "<style scoped>\n",
       "    .dataframe tbody tr th:only-of-type {\n",
       "        vertical-align: middle;\n",
       "    }\n",
       "\n",
       "    .dataframe tbody tr th {\n",
       "        vertical-align: top;\n",
       "    }\n",
       "\n",
       "    .dataframe thead th {\n",
       "        text-align: right;\n",
       "    }\n",
       "</style>\n",
       "<table border=\"1\" class=\"dataframe\">\n",
       "  <thead>\n",
       "    <tr style=\"text-align: right;\">\n",
       "      <th></th>\n",
       "      <th>prefix</th>\n",
       "      <th>input_text</th>\n",
       "      <th>target_text</th>\n",
       "    </tr>\n",
       "  </thead>\n",
       "  <tbody>\n",
       "    <tr>\n",
       "      <th>0</th>\n",
       "      <td>title prediction</td>\n",
       "      <td>Dear Supernote users, new versions of A5 and A6 Agile firmwares are now available:   \\n[https://supernote.com/#/service/firmware](https://supernote.com/#/service/firmware)  \\n\\n\\n1.Add switch button of disabling hand touch function under Note file full screen mode for left-handed and avoid mis-touch.\\n\\n2.Add Alibaba Sans font option in EPUB document font settings to adjust space after every apostrophe.  \\n\\n3.Add email attachment (PDF/EPUB/Note/SW files) function.\\n\\n4.Add QR code sharing function for notes.\\n\\n5.Add file sorting function.\\n\\n6.Modified the interactive operation of PDF trimming.\\n\\n7.Adjusted email signature and content display effect. There was video of a multifunction button to be released in this new firmware but I can't access it -was it included in the new firmware? I had the same problem. It is there. \\n\\nClick the delete or selection delete button in the side bar and then click the '+' symbol on that icon and the floating menu will appear. \\n\\nHope that helps. Please click the eraser button in the left side bar and then click '+' symbol on the icon, the copy eraser is shown on the right upper corner of menu and then double click for full screen.</td>\n",
       "      <td>New versions of A5 and A6 Agile firmwares are now available</td>\n",
       "    </tr>\n",
       "    <tr>\n",
       "      <th>1</th>\n",
       "      <td>title prediction</td>\n",
       "      <td>Thank you for the new firmware update. It adds some very useful features.\\n\\nIs there any way that you could add pressure sensitivity adjustment/calibration in a future update? I have several styli which I find more comfortable than the Supernote stylus and the default pressure sensitivity is far too high for them. \\n\\nAlso, in a previous firmware version, the button on a Lamy EMR stylus triggered the selection erase tool when held down. It now does nothing. Can this be re-instated as it was a very useful feature? The eraser on other styli still works fine.\\n\\nThanks We are happy that you can enjoy this firmwares update, and your opinion is important to us.\\n\\nWe will fix the eraser function of Lamy EMR pen within a month, Thank you for your support. Thank you for reinstating the erase feature. I see that the pressure sensitivity works correctly with the Lamy EMR Pen and Boox styli. Fantastic! : )</td>\n",
       "      <td>Feature request. Pressure sensitivity.</td>\n",
       "    </tr>\n",
       "    <tr>\n",
       "      <th>2</th>\n",
       "      <td>title prediction</td>\n",
       "      <td>Set up and connect to the Supernote Cloud account to transfer ebooks, PDFs and documents to and from your Supernote.\\n\\n**📷**\\n\\n**📷**\\n\\n**📷** What I would like to know is where can one buy the super note in Europe. I've searched and searched but found nothing Hello, we participated in Paperworld 2020(International trade fair for stationery, office supplies and writing instruments) in 25-28 january 2020, Frankfurt am Main. You can now buy Supernote at the Goodereader store or iQoods.com and it is expected that European customers will be able to buy from our official website next month. And Supernote Amazon official store in Europe will also be available in the future. Hello. International shipping is FREE now at [iQoods.com](https://www.iqoods.com) .</td>\n",
       "      <td>Quick Guide — Set Up and Connect to the Supernote Cloud</td>\n",
       "    </tr>\n",
       "    <tr>\n",
       "      <th>3</th>\n",
       "      <td>title prediction</td>\n",
       "      <td>How do you achieve this? I've not been able to use it in notes, and sent see it in the manual? Currently you can try the \"Smart Writing\" function, which supports Chinese, English, Japanese handwriting recognition, text conversion and handwriting edit (including Insert/Clear/Delete/Exchange/Enter Line/Squeeze). And we are sure that this feature will be upgraded in a future update, and the \"Smart Writing\" function may be merged with Note.\\n\\nHow to enable Smart Writing beta:\\n\\nPlease enter the settings menu - click Tag - open Smart Writing</td>\n",
       "      <td>How to use handwriting to text function?</td>\n",
       "    </tr>\n",
       "    <tr>\n",
       "      <th>4</th>\n",
       "      <td>title prediction</td>\n",
       "      <td>I have set up my email, and can send emails. My inbox will not populate though...\\n\\nIt states there is an error and to check server settings...\\n\\nI've logged in and out numerous times, and game tried syncing different email addresses, and have gotten the same results...\\n\\nThanks Hi aubrit512,\\n\\nPlease try to update the system to the latest version first. If it doesn't work, please send me the device serial number and we will check for possible problems.</td>\n",
       "      <td>Email inbox issues</td>\n",
       "    </tr>\n",
       "  </tbody>\n",
       "</table>\n",
       "</div>"
      ],
      "text/plain": [
       "             prefix  \\\n",
       "0  title prediction   \n",
       "1  title prediction   \n",
       "2  title prediction   \n",
       "3  title prediction   \n",
       "4  title prediction   \n",
       "\n",
       "                                                                                                                                                                                                                                                                                                                                                                                                                                                                                                                                                                                                                                                                                                                                                                                                                                                                                                                                                                                                                                                                                                                                                                                                                             input_text  \\\n",
       "0  Dear Supernote users, new versions of A5 and A6 Agile firmwares are now available:   \\n[https://supernote.com/#/service/firmware](https://supernote.com/#/service/firmware)  \\n\\n\\n1.Add switch button of disabling hand touch function under Note file full screen mode for left-handed and avoid mis-touch.\\n\\n2.Add Alibaba Sans font option in EPUB document font settings to adjust space after every apostrophe.  \\n\\n3.Add email attachment (PDF/EPUB/Note/SW files) function.\\n\\n4.Add QR code sharing function for notes.\\n\\n5.Add file sorting function.\\n\\n6.Modified the interactive operation of PDF trimming.\\n\\n7.Adjusted email signature and content display effect. There was video of a multifunction button to be released in this new firmware but I can't access it -was it included in the new firmware? I had the same problem. It is there. \\n\\nClick the delete or selection delete button in the side bar and then click the '+' symbol on that icon and the floating menu will appear. \\n\\nHope that helps. Please click the eraser button in the left side bar and then click '+' symbol on the icon, the copy eraser is shown on the right upper corner of menu and then double click for full screen.   \n",
       "1                                                                                                                                                                                                                                                                                        Thank you for the new firmware update. It adds some very useful features.\\n\\nIs there any way that you could add pressure sensitivity adjustment/calibration in a future update? I have several styli which I find more comfortable than the Supernote stylus and the default pressure sensitivity is far too high for them. \\n\\nAlso, in a previous firmware version, the button on a Lamy EMR stylus triggered the selection erase tool when held down. It now does nothing. Can this be re-instated as it was a very useful feature? The eraser on other styli still works fine.\\n\\nThanks We are happy that you can enjoy this firmwares update, and your opinion is important to us.\\n\\nWe will fix the eraser function of Lamy EMR pen within a month, Thank you for your support. Thank you for reinstating the erase feature. I see that the pressure sensitivity works correctly with the Lamy EMR Pen and Boox styli. Fantastic! : )   \n",
       "2                                                                                                                                                                                                                                                                                                                                                                                                                                             Set up and connect to the Supernote Cloud account to transfer ebooks, PDFs and documents to and from your Supernote.\\n\\n**📷**\\n\\n**📷**\\n\\n**📷** What I would like to know is where can one buy the super note in Europe. I've searched and searched but found nothing Hello, we participated in Paperworld 2020(International trade fair for stationery, office supplies and writing instruments) in 25-28 january 2020, Frankfurt am Main. You can now buy Supernote at the Goodereader store or iQoods.com and it is expected that European customers will be able to buy from our official website next month. And Supernote Amazon official store in Europe will also be available in the future. Hello. International shipping is FREE now at [iQoods.com](https://www.iqoods.com) .   \n",
       "3                                                                                                                                                                                                                                                                                                                                                                                                                                                                                                                                                                                                                                                                      How do you achieve this? I've not been able to use it in notes, and sent see it in the manual? Currently you can try the \"Smart Writing\" function, which supports Chinese, English, Japanese handwriting recognition, text conversion and handwriting edit (including Insert/Clear/Delete/Exchange/Enter Line/Squeeze). And we are sure that this feature will be upgraded in a future update, and the \"Smart Writing\" function may be merged with Note.\\n\\nHow to enable Smart Writing beta:\\n\\nPlease enter the settings menu - click Tag - open Smart Writing   \n",
       "4                                                                                                                                                                                                                                                                                                                                                                                                                                                                                                                                                                                                                                                                                                                                                         I have set up my email, and can send emails. My inbox will not populate though...\\n\\nIt states there is an error and to check server settings...\\n\\nI've logged in and out numerous times, and game tried syncing different email addresses, and have gotten the same results...\\n\\nThanks Hi aubrit512,\\n\\nPlease try to update the system to the latest version first. If it doesn't work, please send me the device serial number and we will check for possible problems.   \n",
       "\n",
       "                                                   target_text  \n",
       "0  New versions of A5 and A6 Agile firmwares are now available  \n",
       "1                       Feature request. Pressure sensitivity.  \n",
       "2      Quick Guide — Set Up and Connect to the Supernote Cloud  \n",
       "3                     How to use handwriting to text function?  \n",
       "4                                           Email inbox issues  "
      ]
     },
     "execution_count": 6,
     "metadata": {},
     "output_type": "execute_result"
    }
   ],
   "source": [
    "title_df.head()"
   ]
  },
  {
   "attachments": {},
   "cell_type": "markdown",
   "metadata": {},
   "source": [
    "Remove any rows that do not have a input text"
   ]
  },
  {
   "cell_type": "code",
   "execution_count": 7,
   "metadata": {},
   "outputs": [],
   "source": [
    "title_df = title_df[~title_df['input_text'].isna()]"
   ]
  },
  {
   "attachments": {},
   "cell_type": "markdown",
   "metadata": {},
   "source": [
    "Split data into train and test sets"
   ]
  },
  {
   "cell_type": "code",
   "execution_count": 8,
   "metadata": {},
   "outputs": [],
   "source": [
    "# train_title_df, eval_title_df = train_test_split(title_df, random_state=42, test_size=0.1)\n",
    "eval_title_df = title_df.sample(frac=0.1,random_state=42)\n",
    "train_title_df = title_df[~title_df.index.isin(eval_title_df.index)]"
   ]
  },
  {
   "attachments": {},
   "cell_type": "markdown",
   "metadata": {},
   "source": [
    "Load the training and testing data for tag classification"
   ]
  },
  {
   "cell_type": "code",
   "execution_count": 9,
   "metadata": {},
   "outputs": [],
   "source": [
    "train_tag_df = pd.read_csv('./data/singletask_train.csv')\n",
    "eval_tag_df = pd.read_csv('./data/singletask_noupsampling_val.csv')"
   ]
  },
  {
   "attachments": {},
   "cell_type": "markdown",
   "metadata": {},
   "source": [
    "Concatenate the title generation and tag classification train and test dataframes"
   ]
  },
  {
   "cell_type": "code",
   "execution_count": 10,
   "metadata": {},
   "outputs": [],
   "source": [
    "train_df = pd.concat([train_title_df, train_tag_df]).reset_index(drop=True)\n",
    "eval_df = pd.concat([eval_title_df, eval_tag_df]).reset_index(drop=True)"
   ]
  },
  {
   "attachments": {},
   "cell_type": "markdown",
   "metadata": {},
   "source": [
    "Login to Weights & Biases"
   ]
  },
  {
   "cell_type": "code",
   "execution_count": 11,
   "metadata": {},
   "outputs": [],
   "source": [
    "with open('./wandb.ini', 'r') as f:\n",
    "    os.environ['WANDB_API_KEY'] = f.readline().strip().split('=')[1]"
   ]
  },
  {
   "attachments": {},
   "cell_type": "markdown",
   "metadata": {},
   "source": [
    "Initialize transformer model"
   ]
  },
  {
   "cell_type": "code",
   "execution_count": 12,
   "metadata": {},
   "outputs": [],
   "source": [
    "model_args = {\n",
    "    \"output_dir\": './multitask', #specify output directory\n",
    "    \"max_seq_length\": 400, # maximum sequence length in tokens\n",
    "    \"train_batch_size\": 2, # training batch size\n",
    "    \"eval_batch_size\": 2, # evaluation batch size\n",
    "    \"num_train_epochs\": 4, # number of epochs\n",
    "    \"evaluate_during_training\": True, # run evaluation during training\n",
    "    #\"evaluate_during_training_steps\": 15000, # steps in training before eval\n",
    "    \"evaluate_during_training_verbose\": True, # print results from evaluation during training\n",
    "    \"use_multiprocessing\": False, # use multiprocessing when converting data into features\n",
    "    \"fp16\": False, # use fp16 mode\n",
    "    \"save_steps\": -1, # save a model checkpoint at every specified number of steps\n",
    "    \"save_eval_checkpoints\": False, # save evaluation checkpoints\n",
    "    \"save_model_every_epoch\": False, #save model checkpoint at the end of every epoch\n",
    "    \"reprocess_input_data\": True, # reprocess the input data\n",
    "    \"overwrite_output_dir\": True, # overwrite the output directory\n",
    "    \"wandb_project\": \"Opinion Mining - T5 - single task\",\n",
    "    \"scheduler\": \"polynomial_decay_schedule_with_warmup\"\n",
    "}"
   ]
  },
  {
   "cell_type": "code",
   "execution_count": 13,
   "metadata": {},
   "outputs": [],
   "source": [
    "model = T5Model('t5', 't5-small', use_cuda=False, args=model_args)"
   ]
  },
  {
   "attachments": {},
   "cell_type": "markdown",
   "metadata": {},
   "source": [
    "Train the model"
   ]
  },
  {
   "cell_type": "code",
   "execution_count": 14,
   "metadata": {},
   "outputs": [
    {
     "data": {
      "application/vnd.jupyter.widget-view+json": {
       "model_id": "970ef755c9de4e93a996b51adb9af7b1",
       "version_major": 2,
       "version_minor": 0
      },
      "text/plain": [
       "  0%|          | 0/1773 [00:00<?, ?it/s]"
      ]
     },
     "metadata": {},
     "output_type": "display_data"
    },
    {
     "data": {
      "application/vnd.jupyter.widget-view+json": {
       "model_id": "06070bd8d5bc417f96715b6f582a64c5",
       "version_major": 2,
       "version_minor": 0
      },
      "text/plain": [
       "Epoch:   0%|          | 0/4 [00:00<?, ?it/s]"
      ]
     },
     "metadata": {},
     "output_type": "display_data"
    },
    {
     "name": "stderr",
     "output_type": "stream",
     "text": [
      "\u001b[34m\u001b[1mwandb\u001b[0m: Currently logged in as: \u001b[33mtextomatic\u001b[0m. Use \u001b[1m`wandb login --relogin`\u001b[0m to force relogin\n"
     ]
    },
    {
     "data": {
      "text/html": [
       "Tracking run with wandb version 0.13.7"
      ],
      "text/plain": [
       "<IPython.core.display.HTML object>"
      ]
     },
     "metadata": {},
     "output_type": "display_data"
    },
    {
     "data": {
      "text/html": [
       "Run data is saved locally in <code>/Users/shen/Documents/Projects/Manning/textomatic-transfer-learning-with-transformers-lp/wandb/run-20230104_132052-a0yqkcq3</code>"
      ],
      "text/plain": [
       "<IPython.core.display.HTML object>"
      ]
     },
     "metadata": {},
     "output_type": "display_data"
    },
    {
     "data": {
      "text/html": [
       "Syncing run <strong><a href=\"https://wandb.ai/textomatic/Opinion%20Mining%20-%20T5%20-%20single%20task/runs/a0yqkcq3\" target=\"_blank\">frosty-breeze-9</a></strong> to <a href=\"https://wandb.ai/textomatic/Opinion%20Mining%20-%20T5%20-%20single%20task\" target=\"_blank\">Weights & Biases</a> (<a href=\"https://wandb.me/run\" target=\"_blank\">docs</a>)<br/>"
      ],
      "text/plain": [
       "<IPython.core.display.HTML object>"
      ]
     },
     "metadata": {},
     "output_type": "display_data"
    },
    {
     "data": {
      "application/vnd.jupyter.widget-view+json": {
       "model_id": "cdb6104016494d41868b5d976dfca3eb",
       "version_major": 2,
       "version_minor": 0
      },
      "text/plain": [
       "Running Epoch 0 of 4:   0%|          | 0/887 [00:00<?, ?it/s]"
      ]
     },
     "metadata": {},
     "output_type": "display_data"
    },
    {
     "data": {
      "application/vnd.jupyter.widget-view+json": {
       "model_id": "963329e7dc77498eb9130d31e057e3c6",
       "version_major": 2,
       "version_minor": 0
      },
      "text/plain": [
       "  0%|          | 0/210 [00:00<?, ?it/s]"
      ]
     },
     "metadata": {},
     "output_type": "display_data"
    },
    {
     "name": "stderr",
     "output_type": "stream",
     "text": [
      "/Users/shen/opt/miniconda3/envs/opinion_mining_3/lib/python3.8/site-packages/transformers/tokenization_utils_base.py:3704: FutureWarning: \n",
      "`prepare_seq2seq_batch` is deprecated and will be removed in version 5 of HuggingFace Transformers. Use the regular\n",
      "`__call__` method to prepare your inputs and targets.\n",
      "\n",
      "Here is a short example:\n",
      "\n",
      "model_inputs = tokenizer(src_texts, text_target=tgt_texts, ...)\n",
      "\n",
      "If you either need to use different keyword arguments for the source and target texts, you should do two calls like\n",
      "this:\n",
      "\n",
      "model_inputs = tokenizer(src_texts, ...)\n",
      "labels = tokenizer(text_target=tgt_texts, ...)\n",
      "model_inputs[\"labels\"] = labels[\"input_ids\"]\n",
      "\n",
      "See the documentation of your specific tokenizer for more details on the specific arguments to the tokenizer of choice.\n",
      "For a more complete example, see the implementation of `prepare_seq2seq_batch`.\n",
      "\n",
      "  warnings.warn(formatted_warning, FutureWarning)\n",
      "/Users/shen/opt/miniconda3/envs/opinion_mining_3/lib/python3.8/site-packages/transformers/tokenization_utils_base.py:3578: UserWarning: `as_target_tokenizer` is deprecated and will be removed in v5 of Transformers. You can tokenize your labels by using the argument `text_target` of the regular `__call__` method (either in the same call as your input texts if you use the same keyword arguments, or in a separate call.\n",
      "  warnings.warn(\n"
     ]
    },
    {
     "data": {
      "application/vnd.jupyter.widget-view+json": {
       "model_id": "4f7c26e6b9fd4ec4be882f5bf072a06a",
       "version_major": 2,
       "version_minor": 0
      },
      "text/plain": [
       "Running Epoch 1 of 4:   0%|          | 0/887 [00:00<?, ?it/s]"
      ]
     },
     "metadata": {},
     "output_type": "display_data"
    },
    {
     "data": {
      "application/vnd.jupyter.widget-view+json": {
       "model_id": "0cf1afa2460147d0b23b5cb994cb7e90",
       "version_major": 2,
       "version_minor": 0
      },
      "text/plain": [
       "  0%|          | 0/210 [00:00<?, ?it/s]"
      ]
     },
     "metadata": {},
     "output_type": "display_data"
    },
    {
     "name": "stderr",
     "output_type": "stream",
     "text": [
      "/Users/shen/opt/miniconda3/envs/opinion_mining_3/lib/python3.8/site-packages/transformers/tokenization_utils_base.py:3704: FutureWarning: \n",
      "`prepare_seq2seq_batch` is deprecated and will be removed in version 5 of HuggingFace Transformers. Use the regular\n",
      "`__call__` method to prepare your inputs and targets.\n",
      "\n",
      "Here is a short example:\n",
      "\n",
      "model_inputs = tokenizer(src_texts, text_target=tgt_texts, ...)\n",
      "\n",
      "If you either need to use different keyword arguments for the source and target texts, you should do two calls like\n",
      "this:\n",
      "\n",
      "model_inputs = tokenizer(src_texts, ...)\n",
      "labels = tokenizer(text_target=tgt_texts, ...)\n",
      "model_inputs[\"labels\"] = labels[\"input_ids\"]\n",
      "\n",
      "See the documentation of your specific tokenizer for more details on the specific arguments to the tokenizer of choice.\n",
      "For a more complete example, see the implementation of `prepare_seq2seq_batch`.\n",
      "\n",
      "  warnings.warn(formatted_warning, FutureWarning)\n",
      "/Users/shen/opt/miniconda3/envs/opinion_mining_3/lib/python3.8/site-packages/transformers/tokenization_utils_base.py:3578: UserWarning: `as_target_tokenizer` is deprecated and will be removed in v5 of Transformers. You can tokenize your labels by using the argument `text_target` of the regular `__call__` method (either in the same call as your input texts if you use the same keyword arguments, or in a separate call.\n",
      "  warnings.warn(\n"
     ]
    },
    {
     "data": {
      "application/vnd.jupyter.widget-view+json": {
       "model_id": "e6b6f517dab24a3f8127812340730003",
       "version_major": 2,
       "version_minor": 0
      },
      "text/plain": [
       "Running Epoch 2 of 4:   0%|          | 0/887 [00:00<?, ?it/s]"
      ]
     },
     "metadata": {},
     "output_type": "display_data"
    },
    {
     "data": {
      "application/vnd.jupyter.widget-view+json": {
       "model_id": "ec552be5766a43a096eea5f449b464ab",
       "version_major": 2,
       "version_minor": 0
      },
      "text/plain": [
       "  0%|          | 0/210 [00:00<?, ?it/s]"
      ]
     },
     "metadata": {},
     "output_type": "display_data"
    },
    {
     "name": "stderr",
     "output_type": "stream",
     "text": [
      "/Users/shen/opt/miniconda3/envs/opinion_mining_3/lib/python3.8/site-packages/transformers/tokenization_utils_base.py:3704: FutureWarning: \n",
      "`prepare_seq2seq_batch` is deprecated and will be removed in version 5 of HuggingFace Transformers. Use the regular\n",
      "`__call__` method to prepare your inputs and targets.\n",
      "\n",
      "Here is a short example:\n",
      "\n",
      "model_inputs = tokenizer(src_texts, text_target=tgt_texts, ...)\n",
      "\n",
      "If you either need to use different keyword arguments for the source and target texts, you should do two calls like\n",
      "this:\n",
      "\n",
      "model_inputs = tokenizer(src_texts, ...)\n",
      "labels = tokenizer(text_target=tgt_texts, ...)\n",
      "model_inputs[\"labels\"] = labels[\"input_ids\"]\n",
      "\n",
      "See the documentation of your specific tokenizer for more details on the specific arguments to the tokenizer of choice.\n",
      "For a more complete example, see the implementation of `prepare_seq2seq_batch`.\n",
      "\n",
      "  warnings.warn(formatted_warning, FutureWarning)\n",
      "/Users/shen/opt/miniconda3/envs/opinion_mining_3/lib/python3.8/site-packages/transformers/tokenization_utils_base.py:3578: UserWarning: `as_target_tokenizer` is deprecated and will be removed in v5 of Transformers. You can tokenize your labels by using the argument `text_target` of the regular `__call__` method (either in the same call as your input texts if you use the same keyword arguments, or in a separate call.\n",
      "  warnings.warn(\n"
     ]
    },
    {
     "data": {
      "application/vnd.jupyter.widget-view+json": {
       "model_id": "bec7e0eec5d04f068a5aa34750a8af90",
       "version_major": 2,
       "version_minor": 0
      },
      "text/plain": [
       "  0%|          | 0/210 [00:00<?, ?it/s]"
      ]
     },
     "metadata": {},
     "output_type": "display_data"
    },
    {
     "name": "stderr",
     "output_type": "stream",
     "text": [
      "/Users/shen/opt/miniconda3/envs/opinion_mining_3/lib/python3.8/site-packages/transformers/tokenization_utils_base.py:3704: FutureWarning: \n",
      "`prepare_seq2seq_batch` is deprecated and will be removed in version 5 of HuggingFace Transformers. Use the regular\n",
      "`__call__` method to prepare your inputs and targets.\n",
      "\n",
      "Here is a short example:\n",
      "\n",
      "model_inputs = tokenizer(src_texts, text_target=tgt_texts, ...)\n",
      "\n",
      "If you either need to use different keyword arguments for the source and target texts, you should do two calls like\n",
      "this:\n",
      "\n",
      "model_inputs = tokenizer(src_texts, ...)\n",
      "labels = tokenizer(text_target=tgt_texts, ...)\n",
      "model_inputs[\"labels\"] = labels[\"input_ids\"]\n",
      "\n",
      "See the documentation of your specific tokenizer for more details on the specific arguments to the tokenizer of choice.\n",
      "For a more complete example, see the implementation of `prepare_seq2seq_batch`.\n",
      "\n",
      "  warnings.warn(formatted_warning, FutureWarning)\n",
      "/Users/shen/opt/miniconda3/envs/opinion_mining_3/lib/python3.8/site-packages/transformers/tokenization_utils_base.py:3578: UserWarning: `as_target_tokenizer` is deprecated and will be removed in v5 of Transformers. You can tokenize your labels by using the argument `text_target` of the regular `__call__` method (either in the same call as your input texts if you use the same keyword arguments, or in a separate call.\n",
      "  warnings.warn(\n"
     ]
    },
    {
     "data": {
      "application/vnd.jupyter.widget-view+json": {
       "model_id": "5b82f2f2282e43419fc3e2c1eff1d406",
       "version_major": 2,
       "version_minor": 0
      },
      "text/plain": [
       "Running Epoch 3 of 4:   0%|          | 0/887 [00:00<?, ?it/s]"
      ]
     },
     "metadata": {},
     "output_type": "display_data"
    },
    {
     "data": {
      "application/vnd.jupyter.widget-view+json": {
       "model_id": "5f7a3bd8aadb4f35bbd1d1bfcbe0a976",
       "version_major": 2,
       "version_minor": 0
      },
      "text/plain": [
       "  0%|          | 0/210 [00:00<?, ?it/s]"
      ]
     },
     "metadata": {},
     "output_type": "display_data"
    },
    {
     "name": "stderr",
     "output_type": "stream",
     "text": [
      "/Users/shen/opt/miniconda3/envs/opinion_mining_3/lib/python3.8/site-packages/transformers/tokenization_utils_base.py:3704: FutureWarning: \n",
      "`prepare_seq2seq_batch` is deprecated and will be removed in version 5 of HuggingFace Transformers. Use the regular\n",
      "`__call__` method to prepare your inputs and targets.\n",
      "\n",
      "Here is a short example:\n",
      "\n",
      "model_inputs = tokenizer(src_texts, text_target=tgt_texts, ...)\n",
      "\n",
      "If you either need to use different keyword arguments for the source and target texts, you should do two calls like\n",
      "this:\n",
      "\n",
      "model_inputs = tokenizer(src_texts, ...)\n",
      "labels = tokenizer(text_target=tgt_texts, ...)\n",
      "model_inputs[\"labels\"] = labels[\"input_ids\"]\n",
      "\n",
      "See the documentation of your specific tokenizer for more details on the specific arguments to the tokenizer of choice.\n",
      "For a more complete example, see the implementation of `prepare_seq2seq_batch`.\n",
      "\n",
      "  warnings.warn(formatted_warning, FutureWarning)\n",
      "/Users/shen/opt/miniconda3/envs/opinion_mining_3/lib/python3.8/site-packages/transformers/tokenization_utils_base.py:3578: UserWarning: `as_target_tokenizer` is deprecated and will be removed in v5 of Transformers. You can tokenize your labels by using the argument `text_target` of the regular `__call__` method (either in the same call as your input texts if you use the same keyword arguments, or in a separate call.\n",
      "  warnings.warn(\n"
     ]
    },
    {
     "data": {
      "text/plain": [
       "(3548,\n",
       " {'global_step': [887, 1774, 2000, 2661, 3548],\n",
       "  'eval_loss': [0.4848617919066566,\n",
       "   0.10484470567593927,\n",
       "   0.07858381473100357,\n",
       "   0.06095149300906217,\n",
       "   0.06380153646522169],\n",
       "  'train_loss': [0.5911074876785278,\n",
       "   0.06384071707725525,\n",
       "   0.05237191170454025,\n",
       "   1.907344994833693e-06,\n",
       "   0.00890375953167677]})"
      ]
     },
     "execution_count": 14,
     "metadata": {},
     "output_type": "execute_result"
    }
   ],
   "source": [
    "model.train_model(train_df, eval_data=eval_df)"
   ]
  },
  {
   "cell_type": "code",
   "execution_count": 15,
   "metadata": {},
   "outputs": [
    {
     "data": {
      "text/html": [
       "Waiting for W&B process to finish... <strong style=\"color:green\">(success).</strong>"
      ],
      "text/plain": [
       "<IPython.core.display.HTML object>"
      ]
     },
     "metadata": {},
     "output_type": "display_data"
    },
    {
     "data": {
      "application/vnd.jupyter.widget-view+json": {
       "model_id": "0e771ff78618486f96de1236b537a00b",
       "version_major": 2,
       "version_minor": 0
      },
      "text/plain": [
       "VBox(children=(Label(value='0.001 MB of 0.001 MB uploaded (0.000 MB deduped)\\r'), FloatProgress(value=1.0, max…"
      ]
     },
     "metadata": {},
     "output_type": "display_data"
    },
    {
     "data": {
      "text/html": [
       "<style>\n",
       "    table.wandb td:nth-child(1) { padding: 0 10px; text-align: left ; width: auto;} td:nth-child(2) {text-align: left ; width: 100%}\n",
       "    .wandb-row { display: flex; flex-direction: row; flex-wrap: wrap; justify-content: flex-start; width: 100% }\n",
       "    .wandb-col { display: flex; flex-direction: column; flex-basis: 100%; flex: 1; padding: 10px; }\n",
       "    </style>\n",
       "<div class=\"wandb-row\"><div class=\"wandb-col\"><h3>Run history:</h3><br/><table class=\"wandb\"><tr><td>Training loss</td><td>▇▄▃▄▆▄█▁▂▂▂▂▁▂▁▂▁▁▁▁▁▂▁▁▁▁▁▁▁▁▁▁▁▁▁▁▁▁▁▁</td></tr><tr><td>eval_loss</td><td>█▂▁▁▁</td></tr><tr><td>global_step</td><td>▁▁▁▂▂▂▂▂▃▃▃▃▃▃▄▄▄▄▄▄▅▅▅▅▅▅▆▆▆▆▆▆▇▇▇▇▇███</td></tr><tr><td>lr</td><td>▃▄████▇▇▇▇▇▆▆▆▆▆▅▅▅▅▅▅▄▄▄▄▄▃▃▃▃▃▂▂▂▂▂▁▁▁</td></tr><tr><td>train_loss</td><td>█▂▂▁▁</td></tr></table><br/></div><div class=\"wandb-col\"><h3>Run summary:</h3><br/><table class=\"wandb\"><tr><td>Training loss</td><td>0.00051</td></tr><tr><td>eval_loss</td><td>0.0638</td></tr><tr><td>global_step</td><td>3548</td></tr><tr><td>lr</td><td>1e-05</td></tr><tr><td>train_loss</td><td>0.0089</td></tr></table><br/></div></div>"
      ],
      "text/plain": [
       "<IPython.core.display.HTML object>"
      ]
     },
     "metadata": {},
     "output_type": "display_data"
    },
    {
     "data": {
      "text/html": [
       "Synced <strong style=\"color:#cdcd00\">frosty-breeze-9</strong>: <a href=\"https://wandb.ai/textomatic/Opinion%20Mining%20-%20T5%20-%20single%20task/runs/a0yqkcq3\" target=\"_blank\">https://wandb.ai/textomatic/Opinion%20Mining%20-%20T5%20-%20single%20task/runs/a0yqkcq3</a><br/>Synced 6 W&B file(s), 0 media file(s), 0 artifact file(s) and 0 other file(s)"
      ],
      "text/plain": [
       "<IPython.core.display.HTML object>"
      ]
     },
     "metadata": {},
     "output_type": "display_data"
    },
    {
     "data": {
      "text/html": [
       "Find logs at: <code>./wandb/run-20230104_132052-a0yqkcq3/logs</code>"
      ],
      "text/plain": [
       "<IPython.core.display.HTML object>"
      ]
     },
     "metadata": {},
     "output_type": "display_data"
    }
   ],
   "source": [
    "wandb.finish()"
   ]
  },
  {
   "attachments": {},
   "cell_type": "markdown",
   "metadata": {},
   "source": [
    "Evaluate the model with test data for tag classification"
   ]
  },
  {
   "cell_type": "code",
   "execution_count": 16,
   "metadata": {},
   "outputs": [],
   "source": [
    "model_eval_args = {\n",
    "    \"overwrite_output_dir\": True,\n",
    "    \"max_seq_length\": 400,\n",
    "    \"eval_batch_size\": 4,\n",
    "    \"use_multiprocessing\": False,\n",
    "    \"num_beams\": 5,\n",
    "    \"do_sample\": True,\n",
    "    \"max_length\": 10,\n",
    "    \"top_k\": 50,\n",
    "    \"top_p\": 0.95,\n",
    "    \"num_return_sequences\": 2,\n",
    "}\n",
    "# Load the trained model\n",
    "model_eval = T5Model(\"t5\", \"multitask\", use_cuda=False, args=model_eval_args)"
   ]
  },
  {
   "cell_type": "code",
   "execution_count": 17,
   "metadata": {},
   "outputs": [],
   "source": [
    "# Prepare the data for testing\n",
    "to_predict = [\n",
    "    prefix + \": \" + str(input_text)\n",
    "    for prefix, input_text in zip(eval_tag_df[\"prefix\"].tolist(), eval_tag_df[\"input_text\"].tolist())\n",
    "]\n",
    "truth = eval_tag_df[\"target_text\"].tolist()\n",
    "tasks = eval_tag_df[\"prefix\"].tolist()"
   ]
  },
  {
   "cell_type": "code",
   "execution_count": 18,
   "metadata": {},
   "outputs": [],
   "source": [
    "# Prepare truth labels for testing\n",
    "val_labels = eval_tag_df['target_text']"
   ]
  },
  {
   "cell_type": "code",
   "execution_count": 19,
   "metadata": {},
   "outputs": [
    {
     "data": {
      "application/vnd.jupyter.widget-view+json": {
       "model_id": "4dd4f9b323374afe94713154af916717",
       "version_major": 2,
       "version_minor": 0
      },
      "text/plain": [
       "Generating outputs:   0%|          | 0/13 [00:00<?, ?it/s]"
      ]
     },
     "metadata": {},
     "output_type": "display_data"
    },
    {
     "data": {
      "application/vnd.jupyter.widget-view+json": {
       "model_id": "869debb6b87d4f8f86470ba9951ce740",
       "version_major": 2,
       "version_minor": 0
      },
      "text/plain": [
       "Decoding outputs:   0%|          | 0/98 [00:00<?, ?it/s]"
      ]
     },
     "metadata": {},
     "output_type": "display_data"
    }
   ],
   "source": [
    "# Get the model predictions\n",
    "preds = model_eval.predict(to_predict)"
   ]
  },
  {
   "cell_type": "code",
   "execution_count": 20,
   "metadata": {},
   "outputs": [],
   "source": [
    "predicted_labels = []\n",
    "for cur_pred in preds:\n",
    "    cur_pred = cur_pred[0].strip()\n",
    "    predicted_labels.append(cur_pred)"
   ]
  },
  {
   "attachments": {},
   "cell_type": "markdown",
   "metadata": {},
   "source": [
    "View classification metrics and visualize confusion matrix"
   ]
  },
  {
   "cell_type": "code",
   "execution_count": 21,
   "metadata": {},
   "outputs": [
    {
     "name": "stdout",
     "output_type": "stream",
     "text": [
      "                 precision    recall  f1-score   support\n",
      "\n",
      "       Question       0.88      0.97      0.92        37\n",
      "         Review       0.50      0.33      0.40         3\n",
      "Stylus problems       0.00      0.00      0.00         1\n",
      "      Templates       0.83      0.62      0.71         8\n",
      "\n",
      "       accuracy                           0.86        49\n",
      "      macro avg       0.55      0.48      0.51        49\n",
      "   weighted avg       0.83      0.86      0.84        49\n",
      "\n"
     ]
    }
   ],
   "source": [
    "print(classification_report(val_labels, predicted_labels))"
   ]
  },
  {
   "cell_type": "code",
   "execution_count": 22,
   "metadata": {},
   "outputs": [
    {
     "data": {
      "text/plain": [
       "<sklearn.metrics._plot.confusion_matrix.ConfusionMatrixDisplay at 0x290416280>"
      ]
     },
     "execution_count": 22,
     "metadata": {},
     "output_type": "execute_result"
    },
    {
     "data": {
      "image/png": "[encoded data removed]",
      "text/plain": [
       "<Figure size 576x432 with 2 Axes>"
      ]
     },
     "metadata": {
      "needs_background": "light"
     },
     "output_type": "display_data"
    }
   ],
   "source": [
    "fig = plt.figure(figsize=(8,6))\n",
    "ax = fig.add_subplot(111)\n",
    "ConfusionMatrixDisplay.from_predictions(val_labels, predicted_labels, cmap='Blues', ax=ax)"
   ]
  }
 ],
 "metadata": {
  "kernelspec": {
   "display_name": "Python 3",
   "language": "python",
   "name": "python3"
  },
  "language_info": {
   "codemirror_mode": {
    "name": "ipython",
    "version": 3
   },
   "file_extension": ".py",
   "mimetype": "text/x-python",
   "name": "python",
   "nbconvert_exporter": "python",
   "pygments_lexer": "ipython3",
   "version": "3.8.9 (default, May 17 2022, 12:55:41) \n[Clang 13.1.6 (clang-1316.0.21.2.5)]"
  },
  "orig_nbformat": 4,
  "vscode": {
   "interpreter": {
    "hash": "31f2aee4e71d21fbe5cf8b01ff0e069b9275f58929596ceb00d14d90e3e16cd6"
   }
  }
 },
 "nbformat": 4,
 "nbformat_minor": 2
}
